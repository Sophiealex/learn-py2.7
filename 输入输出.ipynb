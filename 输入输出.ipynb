{
 "cells": [
  {
   "cell_type": "code",
   "execution_count": 1,
   "metadata": {
    "collapsed": false
   },
   "outputs": [
    {
     "name": "stdout",
     "output_type": "stream",
     "text": [
      "Hello world!\n"
     ]
    }
   ],
   "source": [
    "# 用print加上字符串，就可以向屏幕上输出指定的文字。比如输出'hello, world'，用代码实现如下：\n",
    "print \"Hello world!\""
   ]
  },
  {
   "cell_type": "code",
   "execution_count": 2,
   "metadata": {
    "collapsed": false
   },
   "outputs": [
    {
     "name": "stdout",
     "output_type": "stream",
     "text": [
      "The quick brown fox jumps over the lazy dog\n"
     ]
    }
   ],
   "source": [
    "# print语句也可以跟上多个字符串，用逗号“,”隔开，就可以连成一串输出：\n",
    "print 'The quick brown fox', 'jumps over', 'the lazy dog'"
   ]
  },
  {
   "cell_type": "code",
   "execution_count": 4,
   "metadata": {
    "collapsed": false
   },
   "outputs": [
    {
     "name": "stdout",
     "output_type": "stream",
     "text": [
      "300\n",
      "500\n"
     ]
    }
   ],
   "source": [
    "# print也可以打印整数，或者计算结果：\n",
    "print 100 + 200\n",
    "print 500"
   ]
  },
  {
   "cell_type": "code",
   "execution_count": 5,
   "metadata": {
    "collapsed": false
   },
   "outputs": [
    {
     "name": "stdout",
     "output_type": "stream",
     "text": [
      "100 + 300 = 400\n"
     ]
    }
   ],
   "source": [
    "# 此，我们可以把计算100 + 200的结果打印得更漂亮一点：\n",
    "# 对于100 + 300，Python解释器自动计算出结果300，但是，'100 + 300 ='是字符串而非数学公式，Python把它视为字符串，请自行解释打印结果。\n",
    "print '100 + 300 =', 100 + 300"
   ]
  },
  {
   "cell_type": "code",
   "execution_count": 6,
   "metadata": {
    "collapsed": false
   },
   "outputs": [
    {
     "name": "stdout",
     "output_type": "stream",
     "text": [
      "machile\n"
     ]
    }
   ],
   "source": [
    "# 现在，你已经可以用print输出你想要的结果了。但是，如果要让用户从电脑输入一些字符怎么办？Python提供了一个raw_input，可以让用户输入字符\n",
    "# 串，并存放到一个变量里。比如输入用户的名字：\n",
    "\n",
    "name=raw_input()"
   ]
  },
  {
   "cell_type": "code",
   "execution_count": 7,
   "metadata": {
    "collapsed": false
   },
   "outputs": [
    {
     "data": {
      "text/plain": [
       "'machile'"
      ]
     },
     "execution_count": 7,
     "metadata": {},
     "output_type": "execute_result"
    }
   ],
   "source": [
    "# 输入完成后，不会有任何提示，Python交互式命令行又回到>>>状态了。那我们刚才输入的内容到哪去了？答案是存放到name变量里了。可以直接\n",
    "# 输入name查看变量内容：\n",
    "name"
   ]
  },
  {
   "cell_type": "code",
   "execution_count": 8,
   "metadata": {
    "collapsed": false
   },
   "outputs": [
    {
     "name": "stdout",
     "output_type": "stream",
     "text": [
      "machile\n"
     ]
    }
   ],
   "source": [
    "# 什么是变量？请回忆初中数学所学的代数基础知识：\n",
    "\n",
    "# 设正方形的边长为a，则正方形的面积为a x a。把边长a看做一个变量，我们就可以根据a的值计算正方形的面积，比如：\n",
    "\n",
    "# 若a=2，则面积为a x a = 2 x 2 = 4；\n",
    "\n",
    "# 若a=3.5，则面积为a x a = 3.5 x 3.5 = 12.25。\n",
    "\n",
    "# 在计算机程序中，变量不仅可以为整数或浮点数，还可以是字符串，因此，name作为一个变量就是一个字符串。\n",
    "\n",
    "# 要打印出name变量的内容，除了直接写name然后按回车外，还可以用print语句：\n",
    "\n",
    "print name"
   ]
  },
  {
   "cell_type": "code",
   "execution_count": 9,
   "metadata": {
    "collapsed": false
   },
   "outputs": [
    {
     "name": "stdout",
     "output_type": "stream",
     "text": [
      "alex\n",
      "Hello alex\n"
     ]
    }
   ],
   "source": [
    "# 有了输入和输出，我们就可以把上次打印'hello, world'的程序改成有点意义的程序了：\n",
    "name = raw_input()\n",
    "print 'Hello', name"
   ]
  },
  {
   "cell_type": "raw",
   "metadata": {},
   "source": [
    "小结\n",
    "\n",
    "任何计算机程序都是为了执行一个特定的任务，有了输入，用户才能告诉计算机程序所需的信息，有了输出，程序运行后才能告诉用户任务的结果。\n",
    "\n",
    "输入是Input，输出是Output，因此，我们把输入输出统称为Input/Output，或者简写为IO。\n",
    "\n",
    "raw_input和print是在命令行下面最基本的输入和输出，但是，用户也可以通过其他更高级的图形界面完成输入和输出，比如，在网页上的一个文本框输入自己的名字，点击“确定”后在网页上看到输出信息。"
   ]
  }
 ],
 "metadata": {
  "kernelspec": {
   "display_name": "Python 2",
   "language": "python",
   "name": "python2"
  },
  "language_info": {
   "codemirror_mode": {
    "name": "ipython",
    "version": 2
   },
   "file_extension": ".py",
   "mimetype": "text/x-python",
   "name": "python",
   "nbconvert_exporter": "python",
   "pygments_lexer": "ipython2",
   "version": "2.7.13"
  }
 },
 "nbformat": 4,
 "nbformat_minor": 2
}
