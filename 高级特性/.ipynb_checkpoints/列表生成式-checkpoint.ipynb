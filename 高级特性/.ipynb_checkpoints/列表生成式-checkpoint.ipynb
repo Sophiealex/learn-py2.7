{
 "cells": [
  {
   "cell_type": "markdown",
   "metadata": {},
   "source": [
    "## 列表生成式"
   ]
  },
  {
   "cell_type": "raw",
   "metadata": {},
   "source": [
    "列表生成式即List Comprehensions，是Python内置的非常简单却强大的可以用来创建list的生成式。\n",
    "\n",
    "举个例子，要生成list [1, 2, 3, 4, 5, 6, 7, 8, 9, 10]可以用range(1, 11)："
   ]
  },
  {
   "cell_type": "code",
   "execution_count": 1,
   "metadata": {
    "collapsed": false
   },
   "outputs": [
    {
     "name": "stdout",
     "output_type": "stream",
     "text": [
      "[1, 2, 3, 4, 5, 6, 7, 8, 9]\n"
     ]
    }
   ],
   "source": [
    "print range(1,10)"
   ]
  },
  {
   "cell_type": "code",
   "execution_count": 2,
   "metadata": {
    "collapsed": false
   },
   "outputs": [
    {
     "name": "stdout",
     "output_type": "stream",
     "text": [
      "[1, 4, 9, 16, 25, 36, 49, 64, 81, 100]\n"
     ]
    }
   ],
   "source": [
    "# 但如果要生成[1x1, 2x2, 3x3, ..., 10x10]怎么做？方法一是循环：\n",
    "\n",
    "L = []\n",
    "for x in range(1,11):\n",
    "    L.append(x*x)\n",
    "\n",
    "print L"
   ]
  },
  {
   "cell_type": "code",
   "execution_count": 4,
   "metadata": {
    "collapsed": false
   },
   "outputs": [
    {
     "name": "stdout",
     "output_type": "stream",
     "text": [
      "[1, 4, 9, 16, 25, 36, 49, 64, 81, 100]\n"
     ]
    }
   ],
   "source": [
    "# 但是循环太繁琐，而列表生成式则可以用一行语句代替循环生成上面的list：\n",
    "\n",
    "print [x*x for x in range(1,11)]\n",
    "\n",
    "# 写列表生成式时，把要生成的元素x * x放到前面，后面跟for循环，就可以把list创建出来，十分有用，多写几次，很快就可以熟悉这种语法。"
   ]
  },
  {
   "cell_type": "code",
   "execution_count": 5,
   "metadata": {
    "collapsed": false
   },
   "outputs": [
    {
     "name": "stdout",
     "output_type": "stream",
     "text": [
      "[4, 16, 36, 64, 100]\n"
     ]
    }
   ],
   "source": [
    "# for循环后面还可以加上if判断，这样我们就可以筛选出仅偶数的平方：\n",
    "\n",
    "print [x * x for x in range(1, 11) if x % 2 == 0]"
   ]
  },
  {
   "cell_type": "code",
   "execution_count": 7,
   "metadata": {
    "collapsed": false
   },
   "outputs": [
    {
     "name": "stdout",
     "output_type": "stream",
     "text": [
      "['AX', 'AY', 'AZ', 'BX', 'BY', 'BZ', 'CX', 'CY', 'CZ']\n"
     ]
    }
   ],
   "source": [
    "# 还可以使用两层循环，可以生成全排列：\n",
    "\n",
    "print [m + n for m in 'ABC' for n in 'XYZ']\n",
    "\n",
    "# 三层和三层以上的循环就很少用到了。"
   ]
  },
  {
   "cell_type": "code",
   "execution_count": 8,
   "metadata": {
    "collapsed": false
   },
   "outputs": [
    {
     "name": "stdout",
     "output_type": "stream",
     "text": [
      "['.ipynb_checkpoints', '\\xe8\\xbf\\xad\\xe4\\xbb\\xa3.ipynb', '\\xe5\\x88\\x97\\xe8\\xa1\\xa8\\xe7\\x94\\x9f\\xe6\\x88\\x90\\xe5\\xbc\\x8f.ipynb', '\\xe5\\x88\\x87\\xe7\\x89\\x87.ipynb']\n"
     ]
    }
   ],
   "source": [
    "# 运用列表生成式，可以写出非常简洁的代码。例如，列出当前目录下的所有文件和目录名，可以通过一行代码实现：\n",
    "\n",
    "import os \n",
    "print [d for d in os.listdir('.')]"
   ]
  },
  {
   "cell_type": "code",
   "execution_count": 9,
   "metadata": {
    "collapsed": false
   },
   "outputs": [
    {
     "name": "stdout",
     "output_type": "stream",
     "text": [
      "y = B\n",
      "x = A\n",
      "z = C\n"
     ]
    }
   ],
   "source": [
    "# for循环其实可以同时使用两个甚至多个变量，比如dict的iteritems()可以同时迭代key和value：\n",
    "\n",
    "d = {'x': 'A', 'y': 'B', 'z': 'C' }\n",
    "for k, v in d.iteritems():\n",
    "     print k, '=', v"
   ]
  },
  {
   "cell_type": "code",
   "execution_count": 10,
   "metadata": {
    "collapsed": false
   },
   "outputs": [
    {
     "name": "stdout",
     "output_type": "stream",
     "text": [
      "['y=B', 'x=A', 'z=C']\n"
     ]
    }
   ],
   "source": [
    "# 因此，列表生成式也可以使用两个变量来生成list：\n",
    "\n",
    "d = {'x': 'A', 'y': 'B', 'z': 'C' }\n",
    "print [k + '=' + v for k, v in d.iteritems()]"
   ]
  },
  {
   "cell_type": "code",
   "execution_count": 11,
   "metadata": {
    "collapsed": false
   },
   "outputs": [
    {
     "name": "stdout",
     "output_type": "stream",
     "text": [
      "['hello', 'world', 'ibm', 'apple']\n"
     ]
    }
   ],
   "source": [
    "# 最后把一个list中所有的字符串变成小写：\n",
    "\n",
    "L = ['Hello', 'World', 'IBM', 'Apple']\n",
    "print [s.lower() for s in L]"
   ]
  },
  {
   "cell_type": "markdown",
   "metadata": {},
   "source": [
    "## 小结"
   ]
  },
  {
   "cell_type": "raw",
   "metadata": {},
   "source": [
    "运用列表生成式，可以快速生成list，可以通过一个list推导出另一个list，而代码却十分简洁。\n",
    "\n",
    "思考：如果list中既包含字符串，又包含整数，由于非字符串类型没有lower()方法，所以列表生成式会报错："
   ]
  },
  {
   "cell_type": "code",
   "execution_count": 12,
   "metadata": {
    "collapsed": false
   },
   "outputs": [
    {
     "ename": "AttributeError",
     "evalue": "'int' object has no attribute 'lower'",
     "output_type": "error",
     "traceback": [
      "\u001b[0;31m---------------------------------------------------------------------------\u001b[0m",
      "\u001b[0;31mAttributeError\u001b[0m                            Traceback (most recent call last)",
      "\u001b[0;32m<ipython-input-12-1909f13c4036>\u001b[0m in \u001b[0;36m<module>\u001b[0;34m()\u001b[0m\n\u001b[1;32m      1\u001b[0m \u001b[0mL\u001b[0m \u001b[0;34m=\u001b[0m \u001b[0;34m[\u001b[0m\u001b[0;34m'Hello'\u001b[0m\u001b[0;34m,\u001b[0m \u001b[0;34m'World'\u001b[0m\u001b[0;34m,\u001b[0m \u001b[0;36m18\u001b[0m\u001b[0;34m,\u001b[0m \u001b[0;34m'Apple'\u001b[0m\u001b[0;34m,\u001b[0m \u001b[0mNone\u001b[0m\u001b[0;34m]\u001b[0m\u001b[0;34m\u001b[0m\u001b[0m\n\u001b[0;32m----> 2\u001b[0;31m \u001b[0;32mprint\u001b[0m \u001b[0;34m[\u001b[0m\u001b[0ms\u001b[0m\u001b[0;34m.\u001b[0m\u001b[0mlower\u001b[0m\u001b[0;34m(\u001b[0m\u001b[0;34m)\u001b[0m \u001b[0;32mfor\u001b[0m \u001b[0ms\u001b[0m \u001b[0;32min\u001b[0m \u001b[0mL\u001b[0m\u001b[0;34m]\u001b[0m\u001b[0;34m\u001b[0m\u001b[0m\n\u001b[0m",
      "\u001b[0;31mAttributeError\u001b[0m: 'int' object has no attribute 'lower'"
     ]
    }
   ],
   "source": [
    "L = ['Hello', 'World', 18, 'Apple', None]\n",
    "print [s.lower() for s in L]"
   ]
  },
  {
   "cell_type": "code",
   "execution_count": 14,
   "metadata": {
    "collapsed": false
   },
   "outputs": [
    {
     "name": "stdout",
     "output_type": "stream",
     "text": [
      "isinstance(x, str) =  True\n",
      "isinstance(y, str) =  False\n"
     ]
    }
   ],
   "source": [
    "# 使用内建的isinstance函数可以判断一个变量是不是字符串：\n",
    "\n",
    "x = 'abc'\n",
    "y = 123\n",
    "print 'isinstance(x, str) = ', isinstance(x, str)\n",
    "\n",
    "print 'isinstance(y, str) = ', isinstance(y, str)"
   ]
  },
  {
   "cell_type": "code",
   "execution_count": 15,
   "metadata": {
    "collapsed": false
   },
   "outputs": [
    {
     "name": "stdout",
     "output_type": "stream",
     "text": [
      "['hello', 'world', 'apple']\n"
     ]
    }
   ],
   "source": [
    "# 修改列表生成式，通过添加if语句保证列表生成式能正确地执行\n",
    "\n",
    "L = ['Hello', 'World', 18, 'Apple', None]\n",
    "print [s.lower() for s in L if isinstance(s, str)]"
   ]
  },
  {
   "cell_type": "code",
   "execution_count": null,
   "metadata": {
    "collapsed": true
   },
   "outputs": [],
   "source": []
  }
 ],
 "metadata": {
  "kernelspec": {
   "display_name": "Python 2",
   "language": "python",
   "name": "python2"
  },
  "language_info": {
   "codemirror_mode": {
    "name": "ipython",
    "version": 2
   },
   "file_extension": ".py",
   "mimetype": "text/x-python",
   "name": "python",
   "nbconvert_exporter": "python",
   "pygments_lexer": "ipython2",
   "version": "2.7.13"
  }
 },
 "nbformat": 4,
 "nbformat_minor": 2
}
