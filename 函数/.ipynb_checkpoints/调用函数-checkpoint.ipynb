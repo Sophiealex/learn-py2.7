{
 "cells": [
  {
   "cell_type": "markdown",
   "metadata": {},
   "source": [
    "## 调用函数"
   ]
  },
  {
   "cell_type": "raw",
   "metadata": {},
   "source": [
    "Python内置了很多有用的函数，我们可以直接调用。\n",
    "\n",
    "要调用一个函数，需要知道函数的名称和参数，比如求绝对值的函数abs，只有一个参数。可以直接从Python的官方网站查看文档：\n",
    "\n",
    "http://docs.python.org/2/library/functions.html#abs\n",
    "\n",
    "也可以在交互式命令行通过help(abs)查看abs函数的帮助信息。\n",
    "\n",
    "调用abs函数：\n",
    ">>> abs(100)\n",
    "100\n",
    ">>> abs(-20)\n",
    "20\n",
    ">>> abs(12.34)\n",
    "12.34\n",
    "\n",
    "调用函数的时候，如果传入的参数数量不对，会报TypeError的错误，并且Python会明确地告诉你：abs()有且仅有1个参数，但给出了两个：\n",
    "\n",
    ">>> abs(1, 2)\n",
    "Traceback (most recent call last):\n",
    "  File \"<stdin>\", line 1, in <module>\n",
    "TypeError: abs() takes exactly one argument (2 given)\n",
    "\n",
    "如果传入的参数数量是对的，但参数类型不能被函数所接受，也会报TypeError的错误，并且给出错误信息：str是错误的参数类型：\n",
    "\n",
    ">>> abs('a')\n",
    "Traceback (most recent call last):\n",
    "  File \"<stdin>\", line 1, in <module>\n",
    "TypeError: bad operand type for abs(): 'str'\n",
    "\n",
    "而比较函数cmp(x, y)就需要两个参数，如果x<y，返回-1，如果x==y，返回0，如果x>y，返回1：\n",
    "\n",
    ">>> cmp(1, 2)\n",
    "-1\n",
    ">>> cmp(2, 1)\n",
    "1\n",
    ">>> cmp(3, 3)\n",
    "0"
   ]
  },
  {
   "cell_type": "markdown",
   "metadata": {},
   "source": [
    "## 数据类型转换"
   ]
  },
  {
   "cell_type": "code",
   "execution_count": 4,
   "metadata": {
    "collapsed": false
   },
   "outputs": [
    {
     "name": "stdout",
     "output_type": "stream",
     "text": [
      "123\n",
      "12\n",
      "12.54\n",
      "1.23\n",
      "100\n",
      "True\n",
      "False\n"
     ]
    }
   ],
   "source": [
    "# Python内置的常用函数还包括数据类型转换函数，比如int()函数可以把其他数据类型转换为整数：\n",
    "\n",
    "print int('123')\n",
    "print int(12.35)\n",
    "print float('12.54')\n",
    "print str(1.23)\n",
    "print unicode(100)\n",
    "print bool(1)\n",
    "print bool('')"
   ]
  },
  {
   "cell_type": "code",
   "execution_count": 5,
   "metadata": {
    "collapsed": false
   },
   "outputs": [
    {
     "name": "stdout",
     "output_type": "stream",
     "text": [
      "1\n"
     ]
    }
   ],
   "source": [
    "# 函数名其实就是指向一个函数对象的引用，完全可以把函数名赋给一个变量，相当于给这个函数起了一个“别名”：\n",
    "\n",
    "a = abs\n",
    "print a(-1)"
   ]
  },
  {
   "cell_type": "code",
   "execution_count": null,
   "metadata": {
    "collapsed": true
   },
   "outputs": [],
   "source": []
  }
 ],
 "metadata": {
  "kernelspec": {
   "display_name": "Python 2",
   "language": "python",
   "name": "python2"
  },
  "language_info": {
   "codemirror_mode": {
    "name": "ipython",
    "version": 2
   },
   "file_extension": ".py",
   "mimetype": "text/x-python",
   "name": "python",
   "nbconvert_exporter": "python",
   "pygments_lexer": "ipython2",
   "version": "2.7.13"
  }
 },
 "nbformat": 4,
 "nbformat_minor": 2
}
