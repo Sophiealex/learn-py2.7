{
 "cells": [
  {
   "cell_type": "markdown",
   "metadata": {},
   "source": [
    "## 偏函数"
   ]
  },
  {
   "cell_type": "raw",
   "metadata": {},
   "source": [
    "Python的functools模块提供了很多有用的功能，其中一个就是偏函数（Partial function）。要注意，这里的偏函数和数学意义上的偏函数不一样。\n",
    "\n",
    "在介绍函数参数的时候，我们讲到，通过设定参数的默认值，可以降低函数调用的难度。而偏函数也可以做到这一点。举例如下：\n",
    "\n",
    "int()函数可以把字符串转换为整数，当仅传入字符串时，int()函数默认按十进制转换：\n",
    "\n",
    ">>> int('12345')\n",
    "12345\n",
    "但int()函数还提供额外的base参数，默认值为10。如果传入base参数，就可以做N进制的转换：\n",
    "\n",
    ">>> int('12345', base=8)\n",
    "5349\n",
    ">>> int('12345', 16)\n",
    "74565\n",
    "假设要转换大量的二进制字符串，每次都传入int(x, base=2)非常麻烦，于是，我们想到，可以定义一个int2()的函数，默认把base=2传进去：\n",
    "\n",
    "def int2(x, base=2):\n",
    "    return int(x, base)\n",
    "这样，我们转换二进制就非常方便了：\n",
    "\n",
    ">>> int2('1000000')\n",
    "64\n",
    ">>> int2('1010101')\n",
    "85"
   ]
  },
  {
   "cell_type": "code",
   "execution_count": 1,
   "metadata": {
    "collapsed": true
   },
   "outputs": [],
   "source": [
    "# functools.partial就是帮助我们创建一个偏函数的，不需要我们自己定义int2()，可以直接使用下面的代码创建一个新的函数int2：\n",
    "\n",
    "import functools\n",
    "int2 = functools.partial(int, base=2)"
   ]
  },
  {
   "cell_type": "code",
   "execution_count": 2,
   "metadata": {
    "collapsed": false
   },
   "outputs": [
    {
     "name": "stdout",
     "output_type": "stream",
     "text": [
      "64\n"
     ]
    }
   ],
   "source": [
    "print int2('1000000')"
   ]
  },
  {
   "cell_type": "raw",
   "metadata": {},
   "source": [
    "所以，简单总结functools.partial的作用就是，把一个函数的某些参数给固定住（也就是设置默认值），返回一个新的函数，调用这个新函数会更简单。"
   ]
  },
  {
   "cell_type": "code",
   "execution_count": 3,
   "metadata": {
    "collapsed": false
   },
   "outputs": [
    {
     "data": {
      "text/plain": [
       "1000000"
      ]
     },
     "execution_count": 3,
     "metadata": {},
     "output_type": "execute_result"
    }
   ],
   "source": [
    "# 注意到上面的新的int2函数，仅仅是把base参数重新设定默认值为2，但也可以在函数调用时传入其他值：\n",
    "\n",
    "int2('1000000', base=10)"
   ]
  },
  {
   "cell_type": "raw",
   "metadata": {},
   "source": [
    "最后，创建偏函数时，实际上可以接收函数对象、*args和**kw这3个参数，当传入：\n",
    "\n",
    "int2 = functools.partial(int, base=2)\n",
    "实际上固定了int()函数的关键字参数base，也就是：\n",
    "\n",
    "int2('10010')\n",
    "相当于：\n",
    "\n",
    "kw = { base: 2 }\n",
    "int('10010', **kw)"
   ]
  },
  {
   "cell_type": "raw",
   "metadata": {},
   "source": [
    "当传入：\n",
    "\n",
    "max2 = functools.partial(max, 10)\n",
    "实际上会把10作为*args的一部分自动加到左边，也就是：\n",
    "\n",
    "max2(5, 6, 7)\n",
    "相当于：\n",
    "\n",
    "args = (10, 5, 6, 7)\n",
    "max(*args)"
   ]
  },
  {
   "cell_type": "code",
   "execution_count": 5,
   "metadata": {
    "collapsed": false
   },
   "outputs": [
    {
     "data": {
      "text/plain": [
       "10"
      ]
     },
     "execution_count": 5,
     "metadata": {},
     "output_type": "execute_result"
    }
   ],
   "source": [
    "max2 = functools.partial(max, 10)\n",
    "\n",
    "args = (10, 5, 6, 7)\n",
    "max(*args)# 结果为10"
   ]
  },
  {
   "cell_type": "markdown",
   "metadata": {},
   "source": [
    "## 小结"
   ]
  },
  {
   "cell_type": "raw",
   "metadata": {},
   "source": [
    "当函数的参数个数太多，需要简化时，使用functools.partial可以创建一个新的函数，这个新函数可以固定住原函数的部分参数，从而在调用时更简单。"
   ]
  },
  {
   "cell_type": "code",
   "execution_count": null,
   "metadata": {
    "collapsed": true
   },
   "outputs": [],
   "source": []
  }
 ],
 "metadata": {
  "kernelspec": {
   "display_name": "Python 2",
   "language": "python",
   "name": "python2"
  },
  "language_info": {
   "codemirror_mode": {
    "name": "ipython",
    "version": 2
   },
   "file_extension": ".py",
   "mimetype": "text/x-python",
   "name": "python",
   "nbconvert_exporter": "python",
   "pygments_lexer": "ipython2",
   "version": "2.7.13"
  }
 },
 "nbformat": 4,
 "nbformat_minor": 2
}
