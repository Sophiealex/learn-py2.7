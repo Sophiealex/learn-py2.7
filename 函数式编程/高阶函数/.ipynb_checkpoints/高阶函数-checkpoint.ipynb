{
 "cells": [
  {
   "cell_type": "markdown",
   "metadata": {},
   "source": [
    "## 高阶函数"
   ]
  },
  {
   "cell_type": "markdown",
   "metadata": {},
   "source": [
    "## 变量可以指向函数"
   ]
  },
  {
   "cell_type": "code",
   "execution_count": 1,
   "metadata": {
    "collapsed": false
   },
   "outputs": [
    {
     "data": {
      "text/plain": [
       "10"
      ]
     },
     "execution_count": 1,
     "metadata": {},
     "output_type": "execute_result"
    }
   ],
   "source": [
    "# 以Python内置的求绝对值的函数abs()为例，调用该函数用以下代码：\n",
    "\n",
    "abs(-10)"
   ]
  },
  {
   "cell_type": "code",
   "execution_count": 3,
   "metadata": {
    "collapsed": false
   },
   "outputs": [
    {
     "name": "stdout",
     "output_type": "stream",
     "text": [
      "<built-in function abs>\n"
     ]
    }
   ],
   "source": [
    "# 但是，如果只写abs呢？\n",
    "\n",
    "print abs"
   ]
  },
  {
   "cell_type": "code",
   "execution_count": 4,
   "metadata": {
    "collapsed": true
   },
   "outputs": [],
   "source": [
    "# 可见，abs(-10)是函数调用，而abs是函数本身。\n",
    "\n",
    "# 要获得函数调用结果，我们可以把结果赋值给变量：\n",
    "\n",
    "x = abs(-10)"
   ]
  },
  {
   "cell_type": "code",
   "execution_count": 5,
   "metadata": {
    "collapsed": false
   },
   "outputs": [
    {
     "name": "stdout",
     "output_type": "stream",
     "text": [
      "<built-in function abs>\n",
      "10\n"
     ]
    }
   ],
   "source": [
    "# 但是，如果把函数本身赋值给变量呢？\n",
    "\n",
    "f = abs\n",
    "print f\n",
    "print f(-10)"
   ]
  },
  {
   "cell_type": "raw",
   "metadata": {},
   "source": [
    "成功！说明变量f现在已经指向了abs函数本身。"
   ]
  },
  {
   "cell_type": "markdown",
   "metadata": {},
   "source": [
    "## 函数名也是变量"
   ]
  },
  {
   "cell_type": "raw",
   "metadata": {},
   "source": [
    "那么函数名是什么呢？函数名其实就是指向函数的变量！对于abs()这个函数，完全可以把函数名abs看成变量，它指向一个可以计算绝对值的函数！\n",
    "\n",
    "如果把abs指向其他对象，会有什么情况发生？"
   ]
  },
  {
   "cell_type": "raw",
   "metadata": {},
   "source": [
    ">>> abs = 10\n",
    ">>> abs(-10)\n",
    "Traceback (most recent call last):\n",
    "  File \"<stdin>\", line 1, in <module>\n",
    "TypeError: 'int' object is not callable\n",
    "把abs指向10后，就无法通过abs(-10)调用该函数了！因为abs这个变量已经不指向求绝对值函数了！\n",
    "\n",
    "当然实际代码绝对不能这么写，这里是为了说明函数名也是变量。要恢复abs函数，请重启Python交互环境。\n",
    "\n",
    "注：由于abs函数实际上是定义在__builtin__模块中的，所以要让修改abs变量的指向在其它模块也生效，要用__builtin__.abs = 10。a"
   ]
  },
  {
   "cell_type": "markdown",
   "metadata": {},
   "source": [
    "## 传入函数"
   ]
  },
  {
   "cell_type": "raw",
   "metadata": {},
   "source": [
    "既然变量可以指向函数，函数的参数能接收变量，那么一个函数就可以接收另一个函数作为参数，这种函数就称之为高阶函数。"
   ]
  },
  {
   "cell_type": "code",
   "execution_count": 6,
   "metadata": {
    "collapsed": true
   },
   "outputs": [],
   "source": [
    "def add(x, y, f):\n",
    "    return f(x) + f(y)"
   ]
  },
  {
   "cell_type": "raw",
   "metadata": {},
   "source": [
    "当我们调用add(-5, 6, abs)时，参数x，y和f分别接收-5，6和abs，根据函数定义，我们可以推导计算过程为：\n",
    "\n",
    "x ==> -5\n",
    "y ==> 6\n",
    "f ==> abs\n",
    "f(x) + f(y) ==> abs(-5) + abs(6) ==> 11"
   ]
  },
  {
   "cell_type": "code",
   "execution_count": 7,
   "metadata": {
    "collapsed": false
   },
   "outputs": [
    {
     "name": "stdout",
     "output_type": "stream",
     "text": [
      "11\n"
     ]
    }
   ],
   "source": [
    "# 用代码验证一下：\n",
    "\n",
    "print add(-5, 6, abs)"
   ]
  },
  {
   "cell_type": "raw",
   "metadata": {},
   "source": [
    "编写高阶函数，就是让函数的参数能够接收别的函数。"
   ]
  },
  {
   "cell_type": "markdown",
   "metadata": {},
   "source": [
    "## 小结"
   ]
  },
  {
   "cell_type": "raw",
   "metadata": {},
   "source": [
    "把函数作为参数传入，这样的函数称为高阶函数，函数式编程就是指这种高度抽象的编程范式。"
   ]
  },
  {
   "cell_type": "code",
   "execution_count": null,
   "metadata": {
    "collapsed": true
   },
   "outputs": [],
   "source": []
  }
 ],
 "metadata": {
  "kernelspec": {
   "display_name": "Python 2",
   "language": "python",
   "name": "python2"
  },
  "language_info": {
   "codemirror_mode": {
    "name": "ipython",
    "version": 2
   },
   "file_extension": ".py",
   "mimetype": "text/x-python",
   "name": "python",
   "nbconvert_exporter": "python",
   "pygments_lexer": "ipython2",
   "version": "2.7.13"
  }
 },
 "nbformat": 4,
 "nbformat_minor": 2
}
