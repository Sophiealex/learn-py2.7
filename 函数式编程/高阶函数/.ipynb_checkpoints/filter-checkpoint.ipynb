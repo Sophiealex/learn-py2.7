{
 "cells": [
  {
   "cell_type": "markdown",
   "metadata": {},
   "source": [
    "## filter"
   ]
  },
  {
   "cell_type": "raw",
   "metadata": {},
   "source": [
    "Python内建的filter()函数用于过滤序列。\n",
    "\n",
    "和map()类似，filter()也接收一个函数和一个序列。和map()不同的时，filter()把传入的函数依次作用于每个元素，然后根据返回值是True还是False决定保留还是丢弃该元素。"
   ]
  },
  {
   "cell_type": "code",
   "execution_count": 1,
   "metadata": {
    "collapsed": false
   },
   "outputs": [
    {
     "name": "stdout",
     "output_type": "stream",
     "text": [
      "[1, 5, 9, 15]\n"
     ]
    }
   ],
   "source": [
    "# 例如，在一个list中，删掉偶数，只保留奇数，可以这么写：\n",
    "\n",
    "def is_odd(n):\n",
    "    return n % 2 == 1\n",
    "\n",
    "print filter(is_odd, [1, 2, 4, 5, 6, 9, 10, 15])"
   ]
  },
  {
   "cell_type": "code",
   "execution_count": 6,
   "metadata": {
    "collapsed": false
   },
   "outputs": [
    {
     "data": {
      "text/plain": [
       "['A', 'B', 'C']"
      ]
     },
     "execution_count": 6,
     "metadata": {},
     "output_type": "execute_result"
    }
   ],
   "source": [
    "# 把一个序列中的空字符串删掉，可以这么写：\n",
    "\n",
    "def not_empty(s):\n",
    "    return s and s.strip()\n",
    "\n",
    "filter(not_empty, ['A', '', 'B', None, 'C', '  '])"
   ]
  },
  {
   "cell_type": "raw",
   "metadata": {},
   "source": [
    "函数原型\n",
    "声明：s为字符串，rm为要删除的字符序列\n",
    "s.strip(rm)        删除s字符串中开头、结尾处，位于 rm删除序列的字符\n",
    "s.lstrip(rm)       删除s字符串中开头处，位于 rm删除序列的字符\n",
    "s.rstrip(rm)      删除s字符串中结尾处，位于 rm删除序列的字符"
   ]
  },
  {
   "cell_type": "raw",
   "metadata": {},
   "source": [
    "可见用filter()这个高阶函数，关键在于正确实现一个“筛选”函数。"
   ]
  },
  {
   "cell_type": "code",
   "execution_count": null,
   "metadata": {
    "collapsed": false
   },
   "outputs": [],
   "source": []
  },
  {
   "cell_type": "code",
   "execution_count": null,
   "metadata": {
    "collapsed": true
   },
   "outputs": [],
   "source": []
  }
 ],
 "metadata": {
  "kernelspec": {
   "display_name": "Python 2",
   "language": "python",
   "name": "python2"
  },
  "language_info": {
   "codemirror_mode": {
    "name": "ipython",
    "version": 2
   },
   "file_extension": ".py",
   "mimetype": "text/x-python",
   "name": "python",
   "nbconvert_exporter": "python",
   "pygments_lexer": "ipython2",
   "version": "2.7.13"
  }
 },
 "nbformat": 4,
 "nbformat_minor": 2
}
