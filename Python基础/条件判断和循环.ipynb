{
 "cells": [
  {
   "cell_type": "markdown",
   "metadata": {},
   "source": [
    "## 条件判断和循环"
   ]
  },
  {
   "cell_type": "markdown",
   "metadata": {},
   "source": [
    "## 条件判断"
   ]
  },
  {
   "cell_type": "raw",
   "metadata": {},
   "source": [
    "计算机之所以能做很多自动化的任务，因为它可以自己做条件判断。\n",
    "\n",
    "比如，输入用户年龄，根据年龄打印不同的内容，在Python程序中，用if语句实现：\n",
    "\n",
    "age = 20\n",
    "if age >= 18:\n",
    "    print 'your age is', age\n",
    "    print 'adult'\n",
    "根据Python的缩进规则，如果if语句判断是True，就把缩进的两行print语句执行了，否则，什么也不做。\n",
    "\n",
    "也可以给if添加一个else语句，意思是，如果if判断是False，不要执行if的内容，去把else执行了：\n",
    "\n",
    "age = 3\n",
    "if age >= 18:\n",
    "    print 'your age is', age\n",
    "    print 'adult'\n",
    "else:\n",
    "    print 'your age is', age\n",
    "    print 'teenager'\n",
    "注意不要少写了冒号:。\n",
    "\n",
    "当然上面的判断是很粗略的，完全可以用elif做更细致的判断：\n",
    "\n",
    "age = 3\n",
    "if age >= 18:\n",
    "    print 'adult'\n",
    "elif age >= 6:\n",
    "    print 'teenager'\n",
    "else:\n",
    "    print 'kid'\n",
    "elif是else if的缩写，完全可以有多个elif，所以if语句的完整形式就是：\n",
    "\n",
    "if <条件判断1>:\n",
    "    <执行1>\n",
    "elif <条件判断2>:\n",
    "    <执行2>\n",
    "elif <条件判断3>:\n",
    "    <执行3>\n",
    "else:\n",
    "    <执行4>\n",
    "if语句执行有个特点，它是从上往下判断，如果在某个判断上是True，把该判断对应的语句执行后，就忽略掉剩下的elif和else，所以，请测试并解释为什么下面的程序打印的是teenager：\n",
    "\n",
    "age = 20\n",
    "if age >= 6:\n",
    "    print 'teenager'\n",
    "elif age >= 18:\n",
    "    print 'adult'\n",
    "else:\n",
    "    print 'kid'\n",
    "if判断条件还可以简写，比如写：\n",
    "\n",
    "if x:\n",
    "    print 'True'\n",
    "只要x是非零数值、非空字符串、非空list等，就判断为True，否则为False。"
   ]
  },
  {
   "cell_type": "markdown",
   "metadata": {},
   "source": [
    "## 循环"
   ]
  },
  {
   "cell_type": "code",
   "execution_count": 2,
   "metadata": {
    "collapsed": false
   },
   "outputs": [
    {
     "name": "stdout",
     "output_type": "stream",
     "text": [
      "Michael\n",
      "Bob\n",
      "Tracy\n"
     ]
    }
   ],
   "source": [
    "# Python的循环有两种，一种是for...in循环，依次把list或tuple中的每个元素迭代出来，看例子：\n",
    "\n",
    "names = ['Michael', 'Bob', 'Tracy']\n",
    "for name in names:\n",
    "    print name"
   ]
  },
  {
   "cell_type": "raw",
   "metadata": {},
   "source": [
    "所以for x in ...循环就是把每个元素代入变量x，然后执行缩进块的语句。\n",
    "\n",
    "再比如我们想计算1-10的整数之和，可以用一个sum变量做累加："
   ]
  },
  {
   "cell_type": "code",
   "execution_count": 3,
   "metadata": {
    "collapsed": false
   },
   "outputs": [
    {
     "name": "stdout",
     "output_type": "stream",
     "text": [
      "55\n"
     ]
    }
   ],
   "source": [
    "sum = 0\n",
    "for x in [1, 2, 3, 4, 5, 6, 7, 8, 9, 10]:\n",
    "    sum = sum + x\n",
    "print sum"
   ]
  },
  {
   "cell_type": "code",
   "execution_count": 5,
   "metadata": {
    "collapsed": false
   },
   "outputs": [
    {
     "data": {
      "text/plain": [
       "[0, 1, 2, 3, 4]"
      ]
     },
     "execution_count": 5,
     "metadata": {},
     "output_type": "execute_result"
    }
   ],
   "source": [
    "# 如果要计算1-100的整数之和，从1写到100有点困难，幸好Python提供一个range()函数，可以生成一个整数序列，比如range(5)生成的序列是\n",
    "# 从0开始小于5的整数：\n",
    "\n",
    "range(5)"
   ]
  },
  {
   "cell_type": "code",
   "execution_count": 6,
   "metadata": {
    "collapsed": false
   },
   "outputs": [
    {
     "name": "stdout",
     "output_type": "stream",
     "text": [
      "5050\n"
     ]
    }
   ],
   "source": [
    "# range(101)就可以生成0-100的整数序列，计算如下：\n",
    "\n",
    "sum = 0\n",
    "for i in range(101):\n",
    "    sum = sum + i\n",
    "print sum"
   ]
  },
  {
   "cell_type": "code",
   "execution_count": 9,
   "metadata": {
    "collapsed": false
   },
   "outputs": [
    {
     "name": "stdout",
     "output_type": "stream",
     "text": [
      "2500\n"
     ]
    }
   ],
   "source": [
    "# 第二种循环是while循环，只要条件满足，就不断循环，条件不满足时退出循环。比如我们要计算100以内所有奇数之和，可以用while循环实现：\n",
    "# 在循环内部变量n不断自减，直到变为-1时，不再满足while条件，循环退出。\n",
    "\n",
    "sum = 0\n",
    "n = 99\n",
    "while n > 0:\n",
    "    sum = sum + n\n",
    "    n = n - 2\n",
    "print sum"
   ]
  },
  {
   "cell_type": "markdown",
   "metadata": {},
   "source": [
    "## 再议raw_input()"
   ]
  },
  {
   "cell_type": "code",
   "execution_count": 11,
   "metadata": {
    "collapsed": false
   },
   "outputs": [
    {
     "name": "stdout",
     "output_type": "stream",
     "text": [
      "birth: 1998\n",
      "00后\n"
     ]
    }
   ],
   "source": [
    "# 输入1982，结果却显示00后，这么简单的判断Python也能搞错？\n",
    "birth = raw_input('birth: ')\n",
    "if birth < 2000:\n",
    "    print '00前'\n",
    "else:\n",
    "    print '00后'"
   ]
  },
  {
   "cell_type": "code",
   "execution_count": 12,
   "metadata": {
    "collapsed": false
   },
   "outputs": [
    {
     "data": {
      "text/plain": [
       "'1998'"
      ]
     },
     "execution_count": 12,
     "metadata": {},
     "output_type": "execute_result"
    }
   ],
   "source": [
    "birth"
   ]
  },
  {
   "cell_type": "code",
   "execution_count": 13,
   "metadata": {
    "collapsed": false
   },
   "outputs": [
    {
     "data": {
      "text/plain": [
       "False"
      ]
     },
     "execution_count": 13,
     "metadata": {},
     "output_type": "execute_result"
    }
   ],
   "source": [
    "birth < 2000"
   ]
  },
  {
   "cell_type": "code",
   "execution_count": 14,
   "metadata": {
    "collapsed": false
   },
   "outputs": [
    {
     "data": {
      "text/plain": [
       "True"
      ]
     },
     "execution_count": 14,
     "metadata": {},
     "output_type": "execute_result"
    }
   ],
   "source": [
    "1998 < 2000"
   ]
  },
  {
   "cell_type": "code",
   "execution_count": 15,
   "metadata": {
    "collapsed": false
   },
   "outputs": [
    {
     "name": "stdout",
     "output_type": "stream",
     "text": [
      "birth: 1998\n",
      "00前\n"
     ]
    }
   ],
   "source": [
    "# 原因找到了！原来从raw_input()读取的内容永远以字符串的形式返回，把字符串和整数比较就不会得到期待的结果，必须先用int()把字符串转换为\n",
    "# 我们想要的整型：\n",
    "\n",
    "birth = int(raw_input('birth: '))\n",
    "if birth < 2000:\n",
    "    print '00前'\n",
    "else:\n",
    "    print '00后'"
   ]
  },
  {
   "cell_type": "code",
   "execution_count": 16,
   "metadata": {
    "collapsed": true
   },
   "outputs": [],
   "source": [
    "# 再次运行，就可以得到正确地结果。但是，如果输入abc呢？又会得到一个错误信息：\n",
    "\n",
    "# Traceback (most recent call last):\n",
    "#   ...\n",
    "# ValueError: invalid literal for int() with base 10: 'abc'\n",
    "        \n",
    "# int()发现一个字符串并不是合法的数字时就会报错，程序就退出了。"
   ]
  },
  {
   "cell_type": "markdown",
   "metadata": {},
   "source": [
    "## 小结"
   ]
  },
  {
   "cell_type": "markdown",
   "metadata": {},
   "source": [
    "条件判断可以让计算机自己做选择，Python的if...elif...else很灵活。"
   ]
  },
  {
   "cell_type": "code",
   "execution_count": null,
   "metadata": {
    "collapsed": true
   },
   "outputs": [],
   "source": []
  }
 ],
 "metadata": {
  "kernelspec": {
   "display_name": "Python 2",
   "language": "python",
   "name": "python2"
  },
  "language_info": {
   "codemirror_mode": {
    "name": "ipython",
    "version": 2
   },
   "file_extension": ".py",
   "mimetype": "text/x-python",
   "name": "python",
   "nbconvert_exporter": "python",
   "pygments_lexer": "ipython2",
   "version": "2.7.13"
  }
 },
 "nbformat": 4,
 "nbformat_minor": 2
}
